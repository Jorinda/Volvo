{
 "cells": [
  {
   "cell_type": "code",
   "execution_count": 35,
   "metadata": {},
   "outputs": [
    {
     "ename": "AttributeError",
     "evalue": "Document instance has no attribute '__getitem__'",
     "output_type": "error",
     "traceback": [
      "\u001b[1;31m---------------------------------------------------------------------------\u001b[0m",
      "\u001b[1;31mAttributeError\u001b[0m                            Traceback (most recent call last)",
      "\u001b[1;32m<ipython-input-35-1be509c8120d>\u001b[0m in \u001b[0;36m<module>\u001b[1;34m()\u001b[0m\n\u001b[0;32m     18\u001b[0m \u001b[0msparql1\u001b[0m\u001b[1;33m.\u001b[0m\u001b[0msetReturnFormat\u001b[0m\u001b[1;33m(\u001b[0m\u001b[0mJSON\u001b[0m\u001b[1;33m)\u001b[0m\u001b[1;33m\u001b[0m\u001b[0m\n\u001b[0;32m     19\u001b[0m \u001b[0mresult\u001b[0m \u001b[1;33m=\u001b[0m \u001b[0msparql\u001b[0m\u001b[1;33m.\u001b[0m\u001b[0mquery\u001b[0m\u001b[1;33m(\u001b[0m\u001b[1;33m)\u001b[0m\u001b[1;33m.\u001b[0m\u001b[0mconvert\u001b[0m\u001b[1;33m(\u001b[0m\u001b[1;33m)\u001b[0m\u001b[1;33m\u001b[0m\u001b[0m\n\u001b[1;32m---> 20\u001b[1;33m \u001b[1;32mfor\u001b[0m \u001b[0mres\u001b[0m \u001b[1;32min\u001b[0m \u001b[0mresult\u001b[0m\u001b[1;33m[\u001b[0m\u001b[1;34m\"results\"\u001b[0m\u001b[1;33m]\u001b[0m\u001b[1;33m[\u001b[0m\u001b[1;34m\"bindings\"\u001b[0m\u001b[1;33m]\u001b[0m\u001b[1;33m:\u001b[0m\u001b[1;33m\u001b[0m\u001b[0m\n\u001b[0m\u001b[0;32m     21\u001b[0m      \u001b[1;32mprint\u001b[0m\u001b[1;33m(\u001b[0m\u001b[0mres\u001b[0m\u001b[1;33m[\u001b[0m\u001b[1;34m\"name\"\u001b[0m\u001b[1;33m]\u001b[0m\u001b[1;33m[\u001b[0m\u001b[1;34m\"value\"\u001b[0m\u001b[1;33m]\u001b[0m\u001b[1;33m)\u001b[0m\u001b[1;33m\u001b[0m\u001b[0m\n\u001b[0;32m     22\u001b[0m \u001b[1;33m\u001b[0m\u001b[0m\n",
      "\u001b[1;31mAttributeError\u001b[0m: Document instance has no attribute '__getitem__'"
     ]
    }
   ],
   "source": [
    "import rdflib\n",
    "from SPARQLWrapper import SPARQLWrapper, JSON\n",
    "\n",
    "sparql = SPARQLWrapper(\"http://dbpedia.org/sparql\")\n",
    "g = rdflib.Graph()\n",
    "\n",
    "\n",
    "\n",
    "sparql1 = SPARQLWrapper(\"http://dbpedia.org/sparql\")\n",
    "sparql1.setQuery(\"\"\"PREFIX dbo: <http://dbpedia.org/ontology/>\n",
    "PREFIX dbr: <http://dbpedia.org/resource/>\n",
    "PREFIX foaf: <http://xmlns.com/foaf/0.1/>\n",
    "SELECT ?car ?name \n",
    "WHERE { \n",
    "  \t?car dbo:manufacturer dbr:Volvo_Cars\n",
    "    ?car foaf:name ?name\n",
    "}\"\"\")\n",
    "sparql1.setReturnFormat(JSON)\n",
    "result = sparql.query().convert()\n",
    "for res in result[\"results\"][\"bindings\"]:\n",
    "     print(res[\"name\"][\"value\"])\n",
    "\n"
   ]
  },
  {
   "cell_type": "code",
   "execution_count": 34,
   "metadata": {},
   "outputs": [
    {
     "name": "stdout",
     "output_type": "stream",
     "text": [
      "The Volvo C30 is a compact four-seater manufactured and marketed by Volvo Cars for model years 2006-2013, available across its single generation as a three-door hatchback. Powered by inline-four and straight-five engines, the C30 is variant of the Volvo S40/V50/C70 range, sharing the same Ford C1/Volvo P1 platform. Volvo marketed the C30 as a premium hatchback / sports coupe. The C30's rear styling and frameless glass rear hatch recall Volvo's earlier P1800 ES and Volvo 480.\n",
      "http://dbpedia.org/resource/Ghent\n",
      "1.447\n",
      "4.252\n",
      "2006\n",
      "2013\n",
      "http://dbpedia.org/resource/Volvo_V40_(P1)\n",
      "http://dbpedia.org/resource/Volvo_C30__1\n",
      "5-speed Aisin AW55-50automatic, 5-speed Volvo M56manual, 6-speed Volvo M66manual, 6-speedautomatic(PowerShift)\n"
     ]
    }
   ],
   "source": [
    "\n",
    "\n",
    "sparql.setQuery(\"\"\" PREFIX dbo: <http://dbpedia.org/ontology/>\n",
    "PREFIX dbr: <http://dbpedia.org/resource/>\n",
    "SELECT ?description ?made_in ?height ?lenght ?productionStart ?productionEnd ?successor ?predecessor ?engine (group_concat(distinct ?transmission;separator=\" \") as ?transmissions)\n",
    "WHERE { \n",
    "        \n",
    "        <http://dbpedia.org/resource/Volvo_C30> dbo:abstract ?description .\n",
    "        <http://dbpedia.org/resource/Volvo_C30> dbo:assembly ?made_in .\n",
    "        <http://dbpedia.org/resource/Volvo_C30> dbo:height ?height .\n",
    "        <http://dbpedia.org/resource/Volvo_C30> dbo:length ?lenght .\n",
    "        <http://dbpedia.org/resource/Volvo_C30> dbo:productionStartYear ?productionStart .\n",
    "        <http://dbpedia.org/resource/Volvo_C30> dbo:productionEndYear ?productionEnd .\n",
    "        <http://dbpedia.org/resource/Volvo_C30> dbo:successor ?successor .\n",
    "        <http://dbpedia.org/resource/Volvo_C30> dbo:predecessor ?predecessor .\n",
    "        <http://dbpedia.org/resource/Volvo_C30> dbo:transmission ?transmission .\n",
    "        <http://dbpedia.org/resource/Volvo_C30> dbo:engine ?engine .\n",
    "        FILTER langMatches( lang(?description), \"EN\" )\n",
    "        }\n",
    "GROUP BY ?description ?made_in ?height ?lenght ?productionStart ?productionEnd ?successor ?predecessor ?engine\n",
    "\"\"\")\n",
    "sparql.setReturnFormat(JSON)\n",
    "results = sparql.query().convert()\n",
    "    \n",
    "for result in results[\"results\"][\"bindings\"]:\n",
    "    print(result[\"description\"][\"value\"])\n",
    "    print(result[\"made_in\"][\"value\"])\n",
    "    print(result[\"height\"][\"value\"])\n",
    "    print(result[\"lenght\"][\"value\"])\n",
    "    print(result[\"productionStart\"][\"value\"])\n",
    "    print(result[\"productionEnd\"][\"value\"])\n",
    "    print(result[\"successor\"][\"value\"])\n",
    "    print(result[\"engine\"][\"value\"])\n",
    "    print(result[\"transmissions\"][\"value\"])"
   ]
  },
  {
   "cell_type": "code",
   "execution_count": null,
   "metadata": {
    "collapsed": true
   },
   "outputs": [],
   "source": []
  }
 ],
 "metadata": {
  "kernelspec": {
   "display_name": "Python 2",
   "language": "python",
   "name": "python2"
  },
  "language_info": {
   "codemirror_mode": {
    "name": "ipython",
    "version": 2
   },
   "file_extension": ".py",
   "mimetype": "text/x-python",
   "name": "python",
   "nbconvert_exporter": "python",
   "pygments_lexer": "ipython2",
   "version": "2.7.13"
  }
 },
 "nbformat": 4,
 "nbformat_minor": 2
}
